{
 "cells": [
  {
   "cell_type": "markdown",
   "metadata": {},
   "source": [
    "![pslogo](./ps.png)"
   ]
  },
  {
   "cell_type": "markdown",
   "metadata": {},
   "source": [
    "### Instructions:"
   ]
  },
  {
   "cell_type": "markdown",
   "metadata": {},
   "source": [
    "Watch the video and follow along! You can run the demo's in this notebook.  Don't forget to try it yourself in the \"You Try!\" sections."
   ]
  },
  {
   "cell_type": "markdown",
   "metadata": {},
   "source": [
    "# The Help System"
   ]
  },
  {
   "cell_type": "markdown",
   "metadata": {},
   "source": [
    "The help system is the life-line in PowerShell. The help system provides cmdlet syntax, examples and detail information about paramaeters and arguments. More importantly, the help system is built to enable you to discover cmdlets and functionality for PowerShell.\n",
    "\n",
    "When to use the help system:\n",
    "- When you need to perform a task and don't know the command name\n",
    "- When you need an example of how to run the command\n",
    "- When you want to link multiple commands and need to understand how\n",
    "- When you need to script"
   ]
  },
  {
   "cell_type": "markdown",
   "metadata": {},
   "source": [
    "## The importance of the Help System and Dicoverability"
   ]
  },
  {
   "cell_type": "markdown",
   "metadata": {},
   "source": [
    "Main discussion points:\n",
    "- Vast resource at your finger tips to help make you successful\n",
    "- Don't memorize – Discover!\n",
    "- Thousands of cmdlets\n",
    "- Features and Technology help pages (About_)\n",
    "- Updatable Help\n",
    "- The Process (From brain to fingers)\n",
    "- You must be will to read and comprehend the help system to be successful with PowerShell\n"
   ]
  },
  {
   "cell_type": "markdown",
   "metadata": {},
   "source": [
    "Note: **You must be willing to read and comprehend the help system to be successful with PowerShell**"
   ]
  },
  {
   "cell_type": "markdown",
   "metadata": {},
   "source": [
    "This demonstration includes the basics of using the Help system."
   ]
  },
  {
   "cell_type": "markdown",
   "metadata": {},
   "source": [
    "```powershell\n",
    "Update-Help -Force\n",
    "Save-Help\n",
    "\n",
    "Get-Help <noun>\n",
    "Get-Help <verb>\n",
    "\n",
    "Get-Help <cmdlet>\n",
    "Get-Help <cmdlet> –detailed\n",
    "Get-Help <cmdlet> –Examples\n",
    "Get-Help <cmdlet> –Full\n",
    "Get-Help <cmdlet> –Online\n",
    "Get-Help <cmdlet> –ShowWindow\n",
    "\n",
    "Get-Help About_m\n",
    "```"
   ]
  },
  {
   "cell_type": "code",
   "execution_count": null,
   "metadata": {},
   "outputs": [],
   "source": [
    "Update-Help -Force"
   ]
  },
  {
   "cell_type": "code",
   "execution_count": null,
   "metadata": {},
   "outputs": [],
   "source": [
    "Get-Help Get-* # For a list of verbs - checkout Get-Verb"
   ]
  },
  {
   "cell_type": "code",
   "execution_count": null,
   "metadata": {},
   "outputs": [],
   "source": [
    "Get-Help Process"
   ]
  },
  {
   "cell_type": "code",
   "execution_count": null,
   "metadata": {},
   "outputs": [],
   "source": [
    "Get-Help Get-Process"
   ]
  },
  {
   "cell_type": "code",
   "execution_count": null,
   "metadata": {},
   "outputs": [],
   "source": [
    "Get-Help Get-Process -Detailed"
   ]
  },
  {
   "cell_type": "code",
   "execution_count": null,
   "metadata": {},
   "outputs": [],
   "source": [
    "Get-Help Get-Process -Examples"
   ]
  },
  {
   "cell_type": "code",
   "execution_count": null,
   "metadata": {},
   "outputs": [],
   "source": [
    "Get-Help Get-Process -Full"
   ]
  },
  {
   "cell_type": "markdown",
   "metadata": {},
   "source": [
    "You can also display the most recent and up-to-date help from the online PowerShell documentation with a switch parameter -online."
   ]
  },
  {
   "cell_type": "markdown",
   "metadata": {},
   "source": [
    "- Get-Help Get-Process -Online"
   ]
  },
  {
   "cell_type": "markdown",
   "metadata": {},
   "source": [
    "The Help system provides more information about PowerShells' scripting language and additional functionality in the **About_** help files."
   ]
  },
  {
   "cell_type": "code",
   "execution_count": null,
   "metadata": {},
   "outputs": [],
   "source": [
    "Get-Help About_* # This provides a complete list of the About_ help files"
   ]
  },
  {
   "cell_type": "markdown",
   "metadata": {},
   "source": [
    "## You try! "
   ]
  },
  {
   "cell_type": "markdown",
   "metadata": {},
   "source": [
    "Take a moment and try the following:\n",
    "- Display the examples for a cmdlet that will get current contents of the Clipboard.\n",
    "- Display the full help for a cmdlet that will get a list of your recent History.\n",
    "- Display the online help for a cmdlet sets Experimental Features to enable."
   ]
  },
  {
   "cell_type": "code",
   "execution_count": null,
   "metadata": {},
   "outputs": [],
   "source": [
    "# Erase this comment and try here!"
   ]
  },
  {
   "cell_type": "markdown",
   "metadata": {},
   "source": [
    "## Understanding Syntax"
   ]
  },
  {
   "cell_type": "markdown",
   "metadata": {},
   "source": [
    "PowerShell cmdlet's have a structure and set of conventions that include the cmdlet name, optional and mandatory parameters and arguments. Being able to read this syntax can quickly accelerate you to your solution."
   ]
  },
  {
   "cell_type": "markdown",
   "metadata": {},
   "source": [
    "Main discussion points:\n",
    "- Syntax\n",
    "- Parameter Sets\n",
    "- Parameters '-'\n",
    "- Arguments '<>'\n",
    "- Argument values '[]'\n",
    "- Not Required '['']'\n",
    "- Mandatory parameters"
   ]
  },
  {
   "cell_type": "markdown",
   "metadata": {},
   "source": [
    "This demonstration includes:\n",
    "```powershell\n",
    "Get-Help Get-Service\n",
    "Get-Service -Name bits\n",
    "Get-Help Stop-Service\n",
    "'Remind: Manditory parameters'\n",
    "Stop-Service -Name bits\n",
    "Get-Help Get-Process\n",
    "Get-Help Stop-Process\n",
    "```"
   ]
  },
  {
   "cell_type": "code",
   "execution_count": null,
   "metadata": {},
   "outputs": [],
   "source": [
    "Get-Help Test-Connection # Parameter Sets"
   ]
  },
  {
   "cell_type": "markdown",
   "metadata": {},
   "source": []
  }
 ],
 "metadata": {
  "kernelspec": {
   "display_name": ".NET (PowerShell)",
   "language": "PowerShell",
   "name": ".net-powershell"
  },
  "language_info": {
   "file_extension": ".ps1",
   "mimetype": "text/x-powershell",
   "name": "PowerShell",
   "pygments_lexer": "powershell",
   "version": "7.0"
  }
 },
 "nbformat": 4,
 "nbformat_minor": 4
}
